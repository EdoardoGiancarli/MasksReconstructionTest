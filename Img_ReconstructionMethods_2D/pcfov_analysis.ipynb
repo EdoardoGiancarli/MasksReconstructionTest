{
 "cells": [
  {
   "cell_type": "markdown",
   "metadata": {},
   "source": [
    "# <center>**Partially Coded FOV Correct Analysis**<center>"
   ]
  },
  {
   "cell_type": "markdown",
   "metadata": {},
   "source": [
    "- procedure for reconstruction taking into account the PCFOV\n",
    "- slices\n",
    "- balancing analysis\n",
    "- comparison slices"
   ]
  }
 ],
 "metadata": {
  "language_info": {
   "name": "python"
  }
 },
 "nbformat": 4,
 "nbformat_minor": 2
}
