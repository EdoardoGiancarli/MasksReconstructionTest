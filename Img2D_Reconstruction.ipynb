{
 "cells": [
  {
   "cell_type": "markdown",
   "metadata": {},
   "source": [
    "# <center> **Coded Apertures: 2D Image Recostruction Test**<center>"
   ]
  },
  {
   "cell_type": "markdown",
   "metadata": {},
   "source": [
    "**Libraries**"
   ]
  },
  {
   "cell_type": "code",
   "execution_count": 2,
   "metadata": {},
   "outputs": [],
   "source": [
    "import unittest\n",
    "import collections.abc as c\n",
    "\n",
    "import numpy as np\n",
    "from sympy import nextprime\n",
    "from matplotlib.colors import ListedColormap\n",
    "from scipy.signal import correlate\n",
    "\n",
    "import plot_module as plot\n",
    "\n",
    "np.set_printoptions(precision=2, suppress=False)"
   ]
  },
  {
   "cell_type": "markdown",
   "metadata": {},
   "source": [
    "## **1D Folded URA/MURA Masks**"
   ]
  },
  {
   "cell_type": "markdown",
   "metadata": {},
   "source": [
    "**URA/MURA Pattern Simulation**"
   ]
  },
  {
   "cell_type": "code",
   "execution_count": 35,
   "metadata": {},
   "outputs": [],
   "source": [
    "class Mask_Pattern:\n",
    "    \"\"\"\n",
    "    Simulates a 2D (n x n) URA/MURA pattern and its decoding\n",
    "    function from a folded 1D sequence for a coded-mask camera.\n",
    "    \"\"\"\n",
    "\n",
    "    def __init__(self, n: int):\n",
    "        \n",
    "        self.n = n\n",
    "    \n",
    "\n",
    "    def ura_pattern(self) -> tuple[c.Sequence, c.Sequence]:\n",
    "        \"\"\"Generates a folded URA mask pattern and its decoder.\"\"\"\n",
    "        \n",
    "        root = nextprime(self.n**2)\n",
    "        flag = np.round(((root - 3)/4) - ((root - 3)/4)) == 0\n",
    "\n",
    "        if not flag:\n",
    "            raise ValueError(f\"length {self.n} not in URA sequences.\")\n",
    "        \n",
    "        a = np.zeros(root)\n",
    "        r = (np.arange(root)**2) % root\n",
    "        a[r] = 1\n",
    "\n",
    "        g = 2*a - 1\n",
    "\n",
    "        return tuple(map(lambda x: np.reshape(x[:self.n ** 2], (self.n, self.n)).astype(int), [a, g]))\n",
    "\n",
    "\n",
    "    def mura_pattern(self) -> tuple[c.Sequence, c.Sequence]:\n",
    "        \"\"\"Generates a folded MURA mask pattern and its decoder.\"\"\"\n",
    "        \n",
    "        root = nextprime(self.n**2)\n",
    "        flag = np.round(((root - 1)/4) - ((root - 1)/4)) == 0\n",
    "\n",
    "        if not flag:\n",
    "            raise ValueError(f\"length {self.n} not in MURA sequences.\")\n",
    "        \n",
    "        a = np.zeros(root)\n",
    "        r = (np.arange(root)**2) % root\n",
    "        a[r] = 1\n",
    "\n",
    "        g = 2*a - 1\n",
    "\n",
    "        a[0], g[0] = 0, 1\n",
    "\n",
    "        return tuple(map(lambda x: np.reshape(x[:self.n ** 2], (self.n, self.n)).astype(int), [a, g]))"
   ]
  },
  {
   "cell_type": "code",
   "execution_count": 57,
   "metadata": {},
   "outputs": [],
   "source": [
    "n = 19\n",
    "flag = False\n",
    "\n",
    "A_ura, G_ura = Mask_Pattern(n).ura_pattern()\n",
    "A_mura, G_mura = Mask_Pattern(n).mura_pattern()\n",
    "\n",
    "if flag:\n",
    "    plot.image_plot([A_ura, G_ura],\n",
    "                [\"URA Mask Pattern\", \"URA Mask Decoder\"],\n",
    "                cbarlabel=[\"Aperture\", None],\n",
    "                cbarcmap=[ListedColormap([\"DodgerBlue\", \"DeepSkyBlue\"]), ListedColormap([\"DeepPink\", \"Orange\"])])\n",
    "\n",
    "    plot.image_plot([A_mura, G_mura],\n",
    "                [\"MURA Mask Pattern\", \"MURA Mask Decoder\"],\n",
    "                cbarlabel=[\"Aperture\", None],\n",
    "                cbarcmap=[ListedColormap([\"DodgerBlue\", \"DeepSkyBlue\"]), ListedColormap([\"DeepPink\", \"Orange\"])])\n",
    "\n",
    "    plot.image_plot([correlate(A_ura, G_ura, mode='full'), correlate(A_ura, G_ura, mode='same')],\n",
    "                [\"A*G mode='full'\", \"A*G mode='same'\"],\n",
    "                cbarlabel=[\"Correlation Value\", \"Correlation Value\"],\n",
    "                cbarcmap=[None, None])"
   ]
  },
  {
   "cell_type": "markdown",
   "metadata": {},
   "source": [
    "**Mask Interface**"
   ]
  },
  {
   "cell_type": "code",
   "execution_count": 40,
   "metadata": {},
   "outputs": [],
   "source": [
    "class Coded_Mask_Interface(Mask_Pattern):\n",
    "    \"\"\"Interface for the URA/MURA coded mask camera analysis.\"\"\"\n",
    "    \n",
    "    def __init__(self,\n",
    "                 n: int,\n",
    "                 sky_image: c.Sequence,\n",
    "                 pattern_type: str):\n",
    "        \n",
    "        self.n = n\n",
    "        self.pattern_type = pattern_type\n",
    "\n",
    "        self.mask, self.decoder = self.pattern(pattern_type)\n",
    "        self.open_fraction = self.mask.sum()/n**2\n",
    "\n",
    "        self.sky_image = sky_image\n",
    "        self.detector_image = None\n",
    "        self.reconstructed_sky = None\n",
    "    \n",
    "\n",
    "    def pattern(self, pattern_type: str) -> tuple[c.Sequence, c.Sequence]:\n",
    "        \"\"\"Generates the mask pattern.\"\"\"\n",
    "\n",
    "        if pattern_type not in ['ura', 'mura']:\n",
    "            raise ValueError(f\"Invalid pattern_type '{pattern_type}', must be 'ura' or 'mura'.\")\n",
    "        \n",
    "        elif pattern_type == 'ura':\n",
    "            return self.ura_pattern()\n",
    "        \n",
    "        else:\n",
    "            return self.mura_pattern()\n",
    "    \n",
    "\n",
    "    def psf(self) -> c.Sequence:\n",
    "        \"\"\"Returns the mask PSF.\"\"\"\n",
    "\n",
    "        return correlate(self.mask, self.decoder, mode='same')\n",
    "    \n",
    "\n",
    "    def encode(self, detector_background_rate: None | float = None) -> c.Sequence:\n",
    "        \"\"\"Returns the detector image from the simulated sky image.\"\"\"\n",
    "        \n",
    "        self.detector_image = correlate(self.mask, self.sky_image, mode='same')\n",
    "\n",
    "        if detector_background_rate:\n",
    "            self.detector_image += np.random.poisson(detector_background_rate,\n",
    "                                                     self.detector_image.shape)\n",
    "        \n",
    "        return self.detector_image\n",
    "\n",
    "\n",
    "    def decode(self) -> c.Sequence:\n",
    "        \"\"\"Returns the reconstructed sky image from the detector image.\"\"\"\n",
    "        \n",
    "        rec_sky = correlate(self.decoder, self.detector_image, mode='same')\n",
    "        self.reconstructed_sky = rec_sky/self.mask.sum()\n",
    "\n",
    "        return self.reconstructed_sky\n",
    "    \n",
    "\n",
    "    def snr(self) -> c.Sequence:\n",
    "        \"\"\"Returns the SNR for the reconstructed image.\"\"\"\n",
    "\n",
    "        return self.reconstructed_sky/np.sqrt(np.abs(self.reconstructed_sky.sum()))\n",
    "    \n",
    "\n",
    "    @property\n",
    "    def mask_shape(self):\n",
    "        return self.mask.shape\n",
    "    \n",
    "    @property\n",
    "    def sky_image_shape(self):\n",
    "        return self.sky_image.shape\n",
    "    \n",
    "    @property\n",
    "    def decoder_shape(self):\n",
    "        return self.decoder.shape\n",
    "    \n",
    "    @property\n",
    "    def detector_image_shape(self):\n",
    "        return self.detector_image.shape"
   ]
  },
  {
   "cell_type": "code",
   "execution_count": 116,
   "metadata": {},
   "outputs": [
    {
     "data": {
      "text/plain": [
       "((19, 19), (4,))"
      ]
     },
     "execution_count": 116,
     "metadata": {},
     "output_type": "execute_result"
    }
   ],
   "source": [
    "cai = Coded_Mask_Interface(19, np.array([0, 3, 0, 6]), 'mura')\n",
    "\n",
    "cai.n, cai.pattern_type, cai.mask\n",
    "cai.decoder, cai.open_fraction, cai.mask.shape\n",
    "cai.psf(), cai.psf().shape\n",
    "cai.mask_shape, cai.sky_image_shape"
   ]
  },
  {
   "cell_type": "markdown",
   "metadata": {},
   "source": [
    "**Sky Simulation**"
   ]
  },
  {
   "cell_type": "code",
   "execution_count": 5,
   "metadata": {},
   "outputs": [],
   "source": [
    "def simulate_sky_image(n: int,\n",
    "                       sources_flux: c.Sequence[int],\n",
    "                       sources_pos: None | c.Sequence[tuple[int, int]] = None,\n",
    "                       sky_background_rate: None | int = None,\n",
    "                       ) -> c.Sequence | tuple[c.Sequence, c.Sequence]:\n",
    "    \"\"\"Simulates the sky image given the sources flux.\"\"\"\n",
    "\n",
    "    sky_image = np.zeros((n, n))\n",
    "\n",
    "    # assign fluxes to point-like sources\n",
    "    if sources_pos is not None:\n",
    "        for i, pos in enumerate(sources_pos):\n",
    "            sky_image[pos[0], pos[1]] = sources_flux[i]\n",
    "    \n",
    "    else:\n",
    "        for flux in sources_flux:\n",
    "            x, y = np.random.randint(0, n), np.random.randint(0, n)\n",
    "            sky_image[x, y] = flux\n",
    "    \n",
    "    # add sky background\n",
    "    if sky_background_rate is not None:\n",
    "        sky_background = np.random.poisson(sky_background_rate, (n, n))\n",
    "        sky_image += sky_background\n",
    "\n",
    "    else:\n",
    "        sky_background = None\n",
    "    \n",
    "    return sky_image, sky_background"
   ]
  },
  {
   "cell_type": "code",
   "execution_count": 17,
   "metadata": {},
   "outputs": [],
   "source": [
    "n = 40\n",
    "sources_flux = [50, 30, 40]\n",
    "sources_pos = [(20, 30), (10, 20), (30, 10)]\n",
    "sky_background_rate=5\n",
    "\n",
    "flag = False\n",
    "\n",
    "S1, _ = simulate_sky_image(n, sources_flux)\n",
    "S2, _ = simulate_sky_image(n, sources_flux, sources_pos)\n",
    "S3, sky_B3 = simulate_sky_image(n, sources_flux, sources_pos, sky_background_rate)\n",
    "\n",
    "if flag:\n",
    "    plot.image_plot([S1, S2, S3, sky_B3],\n",
    "                    [\"S1\", \"S2\", \"S3\", \"sky_B3\"],\n",
    "                    cbarcmap=[None]*4)"
   ]
  },
  {
   "cell_type": "code",
   "execution_count": null,
   "metadata": {},
   "outputs": [
    {
     "data": {
      "text/plain": [
       "np.True_"
      ]
     },
     "execution_count": 46,
     "metadata": {},
     "output_type": "execute_result"
    }
   ],
   "source": [
    "m = 40\n",
    "pattern_type = 'ura'\n",
    "detector_background_rate = None\n",
    "\n",
    "cai = Coded_Mask_Interface(m, S3, pattern_type)\n",
    "\n",
    "D = cai.encode()\n",
    "S_hat = cai.decode()\n",
    "\n",
    "S3, S_hat/cai.mask.sum()\n",
    "\n",
    "cai.psf().min()\n",
    "\n",
    "\n",
    "def _ura_mura(n):\n",
    "    \"\"\"\n",
    "    From Yuri, generates a n * n ura/mura mask and its decoder. \n",
    "    \"\"\"\n",
    "    length = nextprime(n ** 2)\n",
    "    ura = np.round(((length - 3) / 4.0) - ((length - 3) / 4.0)) == 0\n",
    "    mura = np.round(((length - 1) / 4.0) - ((length - 1) / 4.0)) == 0\n",
    "    if not ura and not mura:\n",
    "        raise ValueError(f'length {n} not in URA/MURA sequences')\n",
    "\n",
    "    a = np.zeros(length)\n",
    "    r = (np.arange(0, length) ** 2) % length\n",
    "    a[r] = 1\n",
    "    g = a.copy()\n",
    "    g[a == 0] = -1\n",
    "    if mura:\n",
    "        a[0], g[0] = 0, 1\n",
    "    return tuple(map(lambda x: np.reshape(x[:n ** 2], (n, n)).astype(int), [a, g]))"
   ]
  },
  {
   "cell_type": "markdown",
   "metadata": {},
   "source": [
    "**Sky Reconstruction Simulation**"
   ]
  },
  {
   "cell_type": "code",
   "execution_count": 6,
   "metadata": {},
   "outputs": [],
   "source": [
    "def simulation_routine(n: int,\n",
    "                       sources_flux: c.Sequence[int],\n",
    "                       m: int,\n",
    "                       pattern_type: str,\n",
    "                       sky_background_rate: None | int = None,\n",
    "                       sources_pos: None | c.Sequence[tuple[int, int]] = None,\n",
    "                       detector_background_rate: None | float = None,\n",
    "                       print_info: bool = False,\n",
    "                       ) -> tuple[c.Sequence, c.Sequence, dict]:\n",
    "    \"\"\"Simulates the reconstruction of the sky for a coded mask camera.\"\"\"\n",
    "    \n",
    "    # sky image simulation\n",
    "    sky_image, sky_background = simulate_sky_image(n, sources_flux, sources_pos,\n",
    "                                                   sky_background_rate)\n",
    "\n",
    "    # mask initialization\n",
    "    cai = Coded_Mask_Interface(m, sky_image, pattern_type)\n",
    "    detector_image = cai.encode(detector_background_rate)\n",
    "\n",
    "    # sky image reconstruction\n",
    "    sky_reconstruction = cai.decode()\n",
    "\n",
    "    # source info\n",
    "    source_info = {'sources_pos': sources_pos,\n",
    "                   'sources_transmitted_flux': cai.open_fraction*sources_flux,\n",
    "                   'sky_image_shape': cai.sky_image_shape,\n",
    "                   'sky_image': sky_image,\n",
    "                   'sky_background': sky_background,\n",
    "                   'sky_reconstruction_SNR': cai.snr(),\n",
    "                   'mask_PSF': cai.psf()}\n",
    "    \n",
    "    # print mask info\n",
    "    if print_info: _print_info(cai)\n",
    "\n",
    "    return detector_image, sky_reconstruction, source_info\n",
    "\n",
    "\n",
    "def _print_info(obj) -> None:\n",
    "    print(f\"Mask pattern type: {obj.pattern_type.upper()}\\n\",\n",
    "          f\"Mask shape: {obj.mask_shape}\\n\",\n",
    "          f\"Decoder shape: {obj.decoder_shape}\\n\",\n",
    "          f\"Detector image shape: {obj.detector_image_shape}\")"
   ]
  },
  {
   "cell_type": "code",
   "execution_count": 43,
   "metadata": {},
   "outputs": [
    {
     "data": {
      "text/plain": [
       "(np.float64(134.12811980033274), np.float64(38.0))"
      ]
     },
     "execution_count": 43,
     "metadata": {},
     "output_type": "execute_result"
    }
   ],
   "source": [
    "n = 49\n",
    "sources_flux = np.array([50, 30, 40])\n",
    "m = n\n",
    "pattern_type = 'ura'\n",
    "sky_background_rate = 5\n",
    "sources_pos = [(20, 30), (20, 20), (30, 10)]\n",
    "detector_background_rate = None\n",
    "print_info = False\n",
    "\n",
    "args = (n, sources_flux, m, pattern_type, sky_background_rate, sources_pos, detector_background_rate, print_info)\n",
    "\n",
    "detector_image, sky_reconstruction, source_info = simulation_routine(*args)\n",
    "\n",
    "np.abs(sky_reconstruction[20, 20] - source_info['sky_image'][20, 20]) < 20\n",
    "\n",
    "sky_reconstruction[20, 20], source_info['sky_image'][20, 20]\n"
   ]
  },
  {
   "cell_type": "markdown",
   "metadata": {},
   "source": [
    "**Tests**"
   ]
  },
  {
   "cell_type": "markdown",
   "metadata": {},
   "source": [
    "### **Random Mask Pattern**"
   ]
  },
  {
   "cell_type": "markdown",
   "metadata": {},
   "source": [
    "### **URA Mask Pattern**"
   ]
  },
  {
   "cell_type": "markdown",
   "metadata": {},
   "source": [
    "## **TO DO**\n",
    "\n",
    "1. write tests with unittest (maybe in another `.py` script)\n",
    "\n",
    "2. Padded URA/MURA Masks (maybe have to accomodate mask shape and detector shape for the correlation, e.g. by linking them)\n",
    "3. GPU Reconstruction Test"
   ]
  }
 ],
 "metadata": {
  "kernelspec": {
   "display_name": "PhD_env__img_reconstruction_test",
   "language": "python",
   "name": "python3"
  },
  "language_info": {
   "codemirror_mode": {
    "name": "ipython",
    "version": 3
   },
   "file_extension": ".py",
   "mimetype": "text/x-python",
   "name": "python",
   "nbconvert_exporter": "python",
   "pygments_lexer": "ipython3",
   "version": "3.12.7"
  }
 },
 "nbformat": 4,
 "nbformat_minor": 2
}
