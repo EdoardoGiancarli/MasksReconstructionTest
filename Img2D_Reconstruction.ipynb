{
 "cells": [
  {
   "cell_type": "markdown",
   "metadata": {},
   "source": [
    "# <center> **Coded Apertures: 2D Image Recostruction Test**<center>"
   ]
  },
  {
   "cell_type": "markdown",
   "metadata": {},
   "source": [
    "**Libraries**"
   ]
  },
  {
   "cell_type": "code",
   "execution_count": 2,
   "metadata": {},
   "outputs": [],
   "source": [
    "import unittest\n",
    "import collections.abc as c\n",
    "\n",
    "import numpy as np\n",
    "from sympy import nextprime\n",
    "from matplotlib.colors import ListedColormap\n",
    "from scipy.signal import correlate\n",
    "\n",
    "import plot_module as plot\n",
    "\n",
    "np.set_printoptions(precision=2, suppress=False)"
   ]
  },
  {
   "cell_type": "markdown",
   "metadata": {},
   "source": [
    "**URA/MURA Pattern Simulation**"
   ]
  },
  {
   "cell_type": "code",
   "execution_count": null,
   "metadata": {},
   "outputs": [],
   "source": [
    "class Mask_Pattern:\n",
    "    \"\"\"\n",
    "    Simulates a 2D (n x n) URA/MURA pattern and its decoding\n",
    "    function from a folded 1D sequence for a coded-mask camera.\n",
    "    \"\"\"\n",
    "\n",
    "    def __init__(self, n: int):\n",
    "        \n",
    "        self.n = n\n",
    "    \n",
    "\n",
    "    def ura_pattern(self) -> tuple[c.Sequence, c.Sequence]:\n",
    "        \"\"\"Generates a folded URA mask pattern and its decoder.\"\"\"\n",
    "        \n",
    "        root = nextprime(self.n**2)\n",
    "        flag = np.round(((root - 3)/4) - ((root - 3)/4)) == 0\n",
    "\n",
    "        if not flag:\n",
    "            raise ValueError(f\"length {self.n} not in URA sequences.\")\n",
    "        \n",
    "        a = np.zeros(root)\n",
    "        r = (np.arange(root)**2) % root\n",
    "        a[r] = 1\n",
    "\n",
    "        g = 2*a - 1\n",
    "\n",
    "        return tuple(map(lambda x: np.reshape(x[:self.n ** 2], (self.n, self.n)).astype(int), [a, g]))\n",
    "\n",
    "\n",
    "    def mura_pattern(self) -> tuple[c.Sequence, c.Sequence]:\n",
    "        \"\"\"Generates a folded MURA mask pattern and its decoder.\"\"\"\n",
    "        \n",
    "        root = nextprime(self.n**2)\n",
    "        flag = np.round(((root - 1)/4) - ((root - 1)/4)) == 0\n",
    "\n",
    "        if not flag:\n",
    "            raise ValueError(f\"length {self.n} not in MURA sequences.\")\n",
    "        \n",
    "        a = np.zeros(root)\n",
    "        r = (np.arange(root)**2) % root\n",
    "        a[r] = 1\n",
    "\n",
    "        g = 2*a - 1\n",
    "\n",
    "        a[0], g[0] = 0, 1\n",
    "\n",
    "        return tuple(map(lambda x: np.reshape(x[:self.n ** 2], (self.n, self.n)).astype(int), [a, g]))"
   ]
  },
  {
   "cell_type": "code",
   "execution_count": 57,
   "metadata": {},
   "outputs": [],
   "source": [
    "n = 19\n",
    "flag = False\n",
    "\n",
    "A_ura, G_ura = Mask_Pattern(n).ura_pattern()\n",
    "A_mura, G_mura = Mask_Pattern(n).mura_pattern()\n",
    "\n",
    "if flag:\n",
    "    plot.image_plot([A_ura, G_ura],\n",
    "                [\"URA Mask Pattern\", \"URA Mask Decoder\"],\n",
    "                cbarlabel=[\"Aperture\", None],\n",
    "                cbarcmap=[ListedColormap([\"DodgerBlue\", \"DeepSkyBlue\"]), ListedColormap([\"DeepPink\", \"Orange\"])])\n",
    "\n",
    "    plot.image_plot([A_mura, G_mura],\n",
    "                [\"MURA Mask Pattern\", \"MURA Mask Decoder\"],\n",
    "                cbarlabel=[\"Aperture\", None],\n",
    "                cbarcmap=[ListedColormap([\"DodgerBlue\", \"DeepSkyBlue\"]), ListedColormap([\"DeepPink\", \"Orange\"])])\n",
    "\n",
    "    plot.image_plot([correlate(A_ura, G_ura, mode='full'), correlate(A_ura, G_ura, mode='same')],\n",
    "                [\"A*G mode='full'\", \"A*G mode='same'\"],\n",
    "                cbarlabel=[\"Correlation Value\", \"Correlation Value\"],\n",
    "                cbarcmap=[None, None])"
   ]
  },
  {
   "cell_type": "markdown",
   "metadata": {},
   "source": [
    "**Mask Interface**"
   ]
  },
  {
   "cell_type": "code",
   "execution_count": null,
   "metadata": {},
   "outputs": [],
   "source": [
    "class Coded_Mask_Interface(Mask_Pattern):\n",
    "    \"\"\"Interface for the coded mask camera analysis.\"\"\"\n",
    "    \n",
    "    def __init__(self,\n",
    "                 n: int,\n",
    "                 sky_image: c.Sequence,\n",
    "                 pattern_type: str):\n",
    "        \n",
    "        self.n = n\n",
    "        self.pattern_type = pattern_type\n",
    "\n",
    "        self.mask, self.decoder = self.pattern(pattern_type)\n",
    "        self.open_fraction = self.mask.sum()/n**2\n",
    "\n",
    "        self.sky_image = sky_image\n",
    "        self.detector_image = None\n",
    "        self.reconstructed_sky = None\n",
    "    \n",
    "\n",
    "    def pattern(self, pattern_type: str) -> tuple[c.Sequence, c.Sequence]:\n",
    "        \"\"\"Generates the mask pattern.\"\"\"\n",
    "\n",
    "        if pattern_type not in ['ura', 'mura']:\n",
    "            raise ValueError(f\"Invalid pattern_type '{pattern_type}', must be 'ura' or 'mura'.\")\n",
    "        \n",
    "        elif pattern_type == 'ura':\n",
    "            return self.ura_pattern()\n",
    "        \n",
    "        elif pattern_type == 'mura':\n",
    "            return self.mura_pattern()\n",
    "    \n",
    "\n",
    "    def psf(self) -> c.Sequence:\n",
    "        \"\"\"Returns the mask PSF.\"\"\"\n",
    "\n",
    "        return correlate(self.mask, self.decoder, mode='same')\n",
    "    \n",
    "\n",
    "    def encode(self, detector_background_rate: None | float = None) -> c.Sequence:\n",
    "        \"\"\"Returns the detector image from the simulated sky image.\"\"\"\n",
    "        \n",
    "        self.detector_image = correlate(self.mask, self.sky_image, mode='same')\n",
    "\n",
    "        if detector_background_rate:\n",
    "            self.detector_image += np.random.poisson(detector_background_rate,\n",
    "                                                     self.detector_image.shape)\n",
    "        \n",
    "        return self.detector_image\n",
    "\n",
    "\n",
    "    def decode(self) -> c.Sequence:\n",
    "        \"\"\"Returns the reconstructed sky image from the detector image.\"\"\"\n",
    "        \n",
    "        self.reconstructed_sky = correlate(self.decoder, self.detector_image, mode='same')\n",
    "\n",
    "        return self.reconstructed_sky\n",
    "    \n",
    "\n",
    "    def snr(self) -> c.Sequence:\n",
    "        \"\"\"Returns the SNR for the reconstructed image.\"\"\"\n",
    "\n",
    "        return self.reconstructed_sky/np.sqrt(self.reconstructed_sky.sum())\n",
    "    \n",
    "\n",
    "    @property\n",
    "    def mask_shape(self):\n",
    "        return self.mask.shape\n",
    "    \n",
    "    @property\n",
    "    def sky_image_shape(self):\n",
    "        return self.sky_image.shape\n",
    "    \n",
    "    @property\n",
    "    def decoder_shape(self):\n",
    "        return self.decoder.shape\n",
    "    \n",
    "    @property\n",
    "    def detector_image_shape(self):\n",
    "        return self.detector_image.shape"
   ]
  },
  {
   "cell_type": "code",
   "execution_count": null,
   "metadata": {},
   "outputs": [
    {
     "data": {
      "text/plain": [
       "((19, 19), (4,))"
      ]
     },
     "execution_count": 64,
     "metadata": {},
     "output_type": "execute_result"
    }
   ],
   "source": [
    "cai = Coded_Mask_Interface(19, np.array([0, 3, 0, 6]), 'mura')\n",
    "\n",
    "cai.n, cai.pattern_type, cai.mask\n",
    "cai.decoder, cai.open_fraction, cai.mask.shape\n",
    "cai.psf(), cai.psf().shape\n",
    "cai.mask_shape, cai.sky_image_shape"
   ]
  },
  {
   "cell_type": "markdown",
   "metadata": {},
   "source": [
    "**Sky Simulation**"
   ]
  },
  {
   "cell_type": "code",
   "execution_count": 76,
   "metadata": {},
   "outputs": [],
   "source": [
    "def simulate_sky_image(n: int,\n",
    "                       sources_flux: c.Sequence,\n",
    "                       sources_pos: None | c.Sequence[tuple] = None,\n",
    "                       sky_background_rate: None | float = None,\n",
    "                       ) -> c.Sequence | tuple[c.Sequence, c.Sequence]:\n",
    "    \"\"\"Simulates the sky image given the sources flux.\"\"\"\n",
    "\n",
    "    sky_image = np.zeros((n, n))\n",
    "\n",
    "    # assign fluxes to point-like sources\n",
    "    if sources_pos is not None:\n",
    "        for i, pos in enumerate(sources_pos):\n",
    "            sky_image[pos[0], pos[1]] = sources_flux[i]\n",
    "    \n",
    "    else:\n",
    "        for flux in sources_flux:\n",
    "            x, y = np.random.randint(0, n + 1), np.random.randint(0, n + 1)\n",
    "            sky_image[x, y] = flux\n",
    "    \n",
    "    # add sky background\n",
    "    if sky_background_rate is not None:\n",
    "        sky_background = np.random.poisson(sky_background_rate, (n, n))\n",
    "        sky_image += sky_background\n",
    "\n",
    "        return sky_image, sky_background\n",
    "    \n",
    "    else:    \n",
    "        return sky_image"
   ]
  },
  {
   "cell_type": "code",
   "execution_count": 83,
   "metadata": {},
   "outputs": [],
   "source": [
    "n = 40\n",
    "sources_flux = [50, 30, 40]\n",
    "sources_pos = [(20, 30), (10, 20), (30, 10)]\n",
    "sky_background_rate=5\n",
    "\n",
    "flag = False\n",
    "\n",
    "S1 = simulate_sky_image(n, sources_flux)\n",
    "S2 = simulate_sky_image(n, sources_flux, sources_pos)\n",
    "S3, sky_B3 = simulate_sky_image(n, sources_flux, sources_pos, sky_background_rate)\n",
    "\n",
    "if flag:\n",
    "    plot.image_plot([S1, S2, S3, sky_B3],\n",
    "                    [\"S1\", \"S2\", \"S3\", \"sky_B3\"],\n",
    "                    cbarcmap=[None]*4)"
   ]
  },
  {
   "cell_type": "markdown",
   "metadata": {},
   "source": [
    "**Sky Reconstruction Simulation**"
   ]
  },
  {
   "cell_type": "code",
   "execution_count": null,
   "metadata": {},
   "outputs": [],
   "source": [
    "def simulation_routine():\n",
    "    \"\"\"Simulates the reconstruction of the sky for a coded mask camera.\"\"\"\n",
    "    pass\n",
    "\n",
    "\n",
    "\n",
    "\n",
    "def simulate(\n",
    "    flux_sources: list, \n",
    "    sky_background_rate: float, \n",
    "    mask: URA, \n",
    "    sources_pos: list[tuple[int, int]]=None\n",
    "    ) -> tuple[detector_array, sky_true_array, dict('sources direction': source_pos, 'transmitted_source_fluxes': )]: \n",
    "    \"\"\"Simulate a real sky image\"\"\"\n",
    "\n",
    "    return 1"
   ]
  },
  {
   "cell_type": "markdown",
   "metadata": {},
   "source": [
    "**Signal-to-Noise Ratio**"
   ]
  },
  {
   "cell_type": "markdown",
   "metadata": {},
   "source": [
    "**Tests**"
   ]
  },
  {
   "cell_type": "markdown",
   "metadata": {},
   "source": [
    "### **Random Mask Pattern**"
   ]
  },
  {
   "cell_type": "markdown",
   "metadata": {},
   "source": [
    "### **URA Mask Pattern**"
   ]
  }
 ],
 "metadata": {
  "kernelspec": {
   "display_name": "PhD_env__img_reconstruction_test",
   "language": "python",
   "name": "python3"
  },
  "language_info": {
   "codemirror_mode": {
    "name": "ipython",
    "version": 3
   },
   "file_extension": ".py",
   "mimetype": "text/x-python",
   "name": "python",
   "nbconvert_exporter": "python",
   "pygments_lexer": "ipython3",
   "version": "3.12.7"
  }
 },
 "nbformat": 4,
 "nbformat_minor": 2
}
