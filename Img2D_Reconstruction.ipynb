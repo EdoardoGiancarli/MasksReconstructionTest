{
 "cells": [
  {
   "cell_type": "markdown",
   "metadata": {},
   "source": [
    "# <center> **Coded Apertures: 2D Image Recostruction Test**<center>"
   ]
  },
  {
   "cell_type": "markdown",
   "metadata": {},
   "source": [
    "**Libraries**"
   ]
  },
  {
   "cell_type": "code",
   "execution_count": 10,
   "metadata": {},
   "outputs": [],
   "source": [
    "import unittest\n",
    "import collections.abc as c\n",
    "\n",
    "import numpy as np\n",
    "from sympy import nextprime\n",
    "from matplotlib.colors import ListedColormap\n",
    "from scipy.signal import correlate\n",
    "\n",
    "import plot_module as plot\n",
    "\n",
    "np.set_printoptions(precision=2, suppress=False)"
   ]
  },
  {
   "cell_type": "markdown",
   "metadata": {},
   "source": [
    "**URA/MURA Pattern Simulation**"
   ]
  },
  {
   "cell_type": "code",
   "execution_count": 22,
   "metadata": {},
   "outputs": [],
   "source": [
    "def ura_pattern(n: int) -> tuple[c.Sequence, c.Sequence]:\n",
    "    \"\"\"Generates a folded URA mask pattern and its decoder.\"\"\"\n",
    "    \n",
    "    root = nextprime(n**2)\n",
    "    flag = np.round(((root - 3)/4) - ((root - 3)/4)) == 0\n",
    "\n",
    "    if not flag:\n",
    "        raise ValueError(f\"length {n} not in URA sequences.\")\n",
    "    \n",
    "    a = np.zeros(root)\n",
    "    r = (np.arange(root)**2) % root\n",
    "    a[r] = 1\n",
    "\n",
    "    g = 2*a - 1\n",
    "\n",
    "    return tuple(map(lambda x: np.reshape(x[:n ** 2], (n, n)).astype(int), [a, g]))\n",
    "\n",
    "\n",
    "def mura_pattern(n: int) -> tuple[c.Sequence, c.Sequence]:\n",
    "    \"\"\"Generates a folded MURA mask pattern and its decoder.\"\"\"\n",
    "    \n",
    "    root = nextprime(n**2)\n",
    "    flag = np.round(((root - 1)/4) - ((root - 1)/4)) == 0\n",
    "\n",
    "    if not flag:\n",
    "        raise ValueError(f\"length {n} not in MURA sequences.\")\n",
    "    \n",
    "    a = np.zeros(root)\n",
    "    r = (np.arange(root)**2) % root\n",
    "    a[r] = 1\n",
    "\n",
    "    g = 2*a - 1\n",
    "\n",
    "    a[0], g[0] = 0, 1\n",
    "\n",
    "    return tuple(map(lambda x: np.reshape(x[:n ** 2], (n, n)).astype(int), [a, g]))"
   ]
  },
  {
   "cell_type": "code",
   "execution_count": null,
   "metadata": {},
   "outputs": [
    {
     "data": {
      "text/plain": [
       "np.int64(-1)"
      ]
     },
     "execution_count": 26,
     "metadata": {},
     "output_type": "execute_result"
    }
   ],
   "source": [
    "A_ura, G_ura = ura_pattern(50)\n",
    "A_mura, G_mura = mura_pattern(7)\n",
    "\n",
    "flag = False\n",
    "\n",
    "if flag:\n",
    "    plot.image_plot([A_ura, G_ura],\n",
    "                [\"URA Mask Pattern\", \"URA Mask Decoder\"],\n",
    "                cbarlabel=[\"Aperture\", None],\n",
    "                cbarcmap=[ListedColormap([\"DodgerBlue\", \"DeepSkyBlue\"]), ListedColormap([\"DeepPink\", \"Orange\"])])\n",
    "\n",
    "    plot.image_plot([A_mura, G_mura],\n",
    "                [\"MURA Mask Pattern\", \"MURA Mask Decoder\"],\n",
    "                cbarlabel=[\"Aperture\", None],\n",
    "                cbarcmap=[ListedColormap([\"DodgerBlue\", \"DeepSkyBlue\"]), ListedColormap([\"DeepPink\", \"Orange\"])])\n",
    "\n",
    "    plot.image_plot([correlate(A_ura, G_ura, mode='full'), correlate(A_ura, G_ura, mode='same')],\n",
    "                [\"A*G mode='full'\", \"A*G mode='same'\"],\n",
    "                cbarlabel=[\"Correlation Value\", \"Correlation Value\"],\n",
    "                cbarcmap=[None, None])"
   ]
  },
  {
   "cell_type": "markdown",
   "metadata": {},
   "source": [
    "**Mask Interface**"
   ]
  },
  {
   "cell_type": "code",
   "execution_count": null,
   "metadata": {},
   "outputs": [],
   "source": [
    "class Coded_Mask_Interface:\n",
    "    \"\"\"Interface for the coded mask camera analysis.\"\"\"\n",
    "    pass\n",
    "\n",
    "\n",
    "\n",
    "\n",
    "\n",
    "\n",
    "\n",
    "class URA:\n",
    "    def __init__(self):\n",
    "        \n",
    "        self.mask, self.decoder = 1 # from function\n",
    "        self.open_fraction = 1\n",
    "        pass\n",
    "\n",
    "\n",
    "    def encode(self, sky_image: np.array) -> np.array:\n",
    "        \"\"\"Correlation between A and S.\"\"\"\n",
    "        pass\n",
    "\n",
    "\n",
    "    def decode(self, detector_image: np.array):\n",
    "\n",
    "        pass\n",
    "\n",
    "\n",
    "    def psf(self):\n",
    "\n",
    "        pass\n",
    "\n",
    "\n",
    "    @property\n",
    "    def sky_shape(self):\n",
    "        \"\"\"return sky image dimension\"\"\"\n",
    "\n",
    "    @property\n",
    "    def detector_shape(self):\n",
    "        pass\n",
    "\n",
    "    @property\n",
    "    def mask_shape(self):\n",
    "        pass"
   ]
  },
  {
   "cell_type": "markdown",
   "metadata": {},
   "source": [
    "**Reconstruction Simulation**"
   ]
  },
  {
   "cell_type": "code",
   "execution_count": null,
   "metadata": {},
   "outputs": [],
   "source": [
    "def simulation_routine():\n",
    "    \"\"\"Simulates the reconstruction of the sky for a coded mask camera.\"\"\"\n",
    "    pass\n",
    "\n",
    "\n",
    "\n",
    "\n",
    "def simulate(\n",
    "    flux_sources: list, \n",
    "    sky_background_rate: float, \n",
    "    mask: URA, \n",
    "    sources_pos: list[tuple[int, int]]=None\n",
    "    ) -> tuple[detector_array, sky_true_array, dict('sources direction': source_pos, 'transmitted_source_fluxes': )]: \n",
    "    \"\"\"Simulate a real sky image\"\"\"\n",
    "\n",
    "    return detector_image"
   ]
  },
  {
   "cell_type": "markdown",
   "metadata": {},
   "source": [
    "**Signal-to-Noise Ratio**"
   ]
  },
  {
   "cell_type": "markdown",
   "metadata": {},
   "source": [
    "**Tests**"
   ]
  },
  {
   "cell_type": "markdown",
   "metadata": {},
   "source": [
    "### **Random Mask Pattern**"
   ]
  },
  {
   "cell_type": "markdown",
   "metadata": {},
   "source": [
    "### **URA Mask Pattern**"
   ]
  }
 ],
 "metadata": {
  "kernelspec": {
   "display_name": "PhD_env__img_reconstruction_test",
   "language": "python",
   "name": "python3"
  },
  "language_info": {
   "codemirror_mode": {
    "name": "ipython",
    "version": 3
   },
   "file_extension": ".py",
   "mimetype": "text/x-python",
   "name": "python",
   "nbconvert_exporter": "python",
   "pygments_lexer": "ipython3",
   "version": "3.12.7"
  }
 },
 "nbformat": 4,
 "nbformat_minor": 2
}
