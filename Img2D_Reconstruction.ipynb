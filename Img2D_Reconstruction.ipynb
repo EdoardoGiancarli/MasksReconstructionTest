{
 "cells": [
  {
   "cell_type": "markdown",
   "metadata": {},
   "source": [
    "# <center> **Coded Apertures: 2D Image Recostruction Test**<center>"
   ]
  }
 ],
 "metadata": {
  "language_info": {
   "name": "python"
  }
 },
 "nbformat": 4,
 "nbformat_minor": 2
}
