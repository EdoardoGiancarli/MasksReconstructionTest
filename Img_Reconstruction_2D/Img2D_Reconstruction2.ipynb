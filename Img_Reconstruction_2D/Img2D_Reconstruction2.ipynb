{
 "cells": [
  {
   "cell_type": "markdown",
   "metadata": {},
   "source": [
    "# <center> **Coded Apertures: 2D Image Recostruction Test 2**<center>"
   ]
  },
  {
   "cell_type": "markdown",
   "metadata": {},
   "source": [
    "**Libraries**"
   ]
  },
  {
   "cell_type": "code",
   "execution_count": 1,
   "metadata": {},
   "outputs": [],
   "source": [
    "import collections.abc as c\n",
    "\n",
    "import numpy as np\n",
    "from sympy import isprime, primerange\n",
    "from scipy.signal import correlate\n",
    "from matplotlib.colors import ListedColormap as lc\n",
    "\n",
    "import plot_module as plot\n",
    "\n",
    "np.set_printoptions(precision=2, suppress=False)"
   ]
  },
  {
   "cell_type": "code",
   "execution_count": null,
   "metadata": {},
   "outputs": [],
   "source": [
    "import importlib\n",
    "importlib.reload(plot)"
   ]
  },
  {
   "cell_type": "markdown",
   "metadata": {},
   "source": [
    "## **2D URA/MURA Masks**"
   ]
  },
  {
   "cell_type": "markdown",
   "metadata": {},
   "source": [
    "**URA/MURA Pattern Simulation**"
   ]
  },
  {
   "cell_type": "code",
   "execution_count": 6,
   "metadata": {},
   "outputs": [],
   "source": [
    "ura = URAMaskPattern(4)\n",
    "flag = False\n",
    "\n",
    "if flag:\n",
    "    print(ura.pattern_type, ura.prime_pair)\n",
    "    plot.image_plot([ura.basic_pattern], [\"URA Mask Basic Pattern\"],\n",
    "                    cbarvalues=[[0, 1]], cbarcmap=[lc([\"DodgerBlue\", \"DeepSkyBlue\"])])"
   ]
  },
  {
   "cell_type": "code",
   "execution_count": 12,
   "metadata": {},
   "outputs": [
    {
     "name": "stdout",
     "output_type": "stream",
     "text": [
      "5\n",
      "13\n",
      "17\n"
     ]
    }
   ],
   "source": [
    "mura = MURAMaskPattern(3)\n",
    "flag = False\n",
    "\n",
    "if flag:\n",
    "    print(mura.pattern_type, mura.l)\n",
    "    plot.image_plot([mura.basic_pattern], [\"MURA Mask Basic Pattern\"],\n",
    "                    cbarvalues=[[0, 1]], cbarcmap=[lc([\"DodgerBlue\", \"DeepSkyBlue\"])])"
   ]
  },
  {
   "cell_type": "markdown",
   "metadata": {},
   "source": [
    "**Mask Interface**"
   ]
  },
  {
   "cell_type": "code",
   "execution_count": null,
   "metadata": {},
   "outputs": [],
   "source": [
    "class CodedMaskInterface:\n",
    "    \"\"\"Interface for the URA/MURA coded mask camera analysis.\"\"\"\n",
    "\n",
    "    pass"
   ]
  },
  {
   "cell_type": "markdown",
   "metadata": {},
   "source": [
    "**Sky Simulation**"
   ]
  },
  {
   "cell_type": "markdown",
   "metadata": {},
   "source": [
    "**Sky Reconstruction Simulation**"
   ]
  },
  {
   "cell_type": "markdown",
   "metadata": {},
   "source": [
    "**Tests**"
   ]
  },
  {
   "cell_type": "markdown",
   "metadata": {},
   "source": [
    "### **URA Mask Pattern**"
   ]
  },
  {
   "cell_type": "markdown",
   "metadata": {},
   "source": [
    "### **MURA Mask Pattern**"
   ]
  }
 ],
 "metadata": {
  "kernelspec": {
   "display_name": "PhD_env__img_reconstruction_test",
   "language": "python",
   "name": "python3"
  },
  "language_info": {
   "codemirror_mode": {
    "name": "ipython",
    "version": 3
   },
   "file_extension": ".py",
   "mimetype": "text/x-python",
   "name": "python",
   "nbconvert_exporter": "python",
   "pygments_lexer": "ipython3",
   "version": "3.12.2"
  }
 },
 "nbformat": 4,
 "nbformat_minor": 2
}
