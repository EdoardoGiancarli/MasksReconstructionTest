{
 "cells": [
  {
   "cell_type": "markdown",
   "metadata": {},
   "source": [
    "# <center> **Coded Apertures: 2D Image Recostruction Test 2**<center>"
   ]
  },
  {
   "cell_type": "markdown",
   "metadata": {},
   "source": [
    "**Libraries**"
   ]
  },
  {
   "cell_type": "code",
   "execution_count": 1,
   "metadata": {},
   "outputs": [],
   "source": [
    "import collections.abc as c\n",
    "\n",
    "import numpy as np\n",
    "from sympy import isprime, primerange\n",
    "from scipy.signal import correlate\n",
    "from matplotlib.colors import ListedColormap as lc\n",
    "\n",
    "import plot_module as plot\n",
    "\n",
    "np.set_printoptions(precision=2, suppress=False)"
   ]
  },
  {
   "cell_type": "code",
   "execution_count": null,
   "metadata": {},
   "outputs": [],
   "source": [
    "import importlib\n",
    "importlib.reload(plot)"
   ]
  },
  {
   "cell_type": "markdown",
   "metadata": {},
   "source": [
    "## **2D URA/MURA Masks**"
   ]
  },
  {
   "cell_type": "markdown",
   "metadata": {},
   "source": [
    "**URA/MURA Pattern Simulation**"
   ]
  },
  {
   "cell_type": "code",
   "execution_count": 2,
   "metadata": {},
   "outputs": [],
   "source": [
    "class URAMaskPattern:\n",
    "    \"\"\"Generates a 2D URA pattern for a coded mask camera.\"\"\"\n",
    "\n",
    "    def __init__(self, rank: int):\n",
    "        \n",
    "        self.pattern_type = 'URA'\n",
    "        self.rank = rank\n",
    "\n",
    "        self.prime_pair = self._get_prime_pair(rank)\n",
    "        C_r_i, C_s_j = self._get_pattern_root()\n",
    "\n",
    "        self.basic_pattern = self._get_basic_pattern(C_r_i, C_s_j)\n",
    "    \n",
    "\n",
    "    def _get_prime_pair(self, rank):\n",
    "\n",
    "        assert rank >= 0, f\"rank must be >= 0, got rank = {rank} instead.\"\n",
    "\n",
    "        lim = 107\n",
    "        primes = list(primerange(2, lim))\n",
    "\n",
    "        p1, this_rank = primes[0], -1\n",
    "\n",
    "        for p2 in primes[1:]:\n",
    "            if (p2 - p1) == 2:\n",
    "                this_rank += 1\n",
    "                if this_rank == rank:\n",
    "                    return p2, p1\n",
    "            p1 = p2\n",
    "\n",
    "        raise ValueError(f\"Could not find prime pairs in the range [2, {lim}] for rank = {rank}.\")\n",
    "    \n",
    "    def _get_pattern_root(self):\n",
    "\n",
    "        r, s = self.prime_pair\n",
    "\n",
    "        C_r_i = np.zeros(r) - 1\n",
    "        C_s_j = np.zeros(s) - 1\n",
    "\n",
    "        for x in range(1, r):\n",
    "            C_r_i[x**2 % r] = 1\n",
    "        \n",
    "        for y in range(1, s):\n",
    "            C_s_j[y**2 % s] = 1\n",
    "        \n",
    "        return C_r_i, C_s_j\n",
    "    \n",
    "    def _get_basic_pattern(self, C_r_i, C_s_j):\n",
    "\n",
    "        A = np.zeros(self.prime_pair)\n",
    "\n",
    "        for i in range(self.prime_pair[0]):\n",
    "            for j in range(self.prime_pair[1]):\n",
    "\n",
    "                if i == 0: A[i,j] = 0\n",
    "\n",
    "                elif j == 0: A[i,j] = 1\n",
    "\n",
    "                elif C_r_i[i]*C_s_j[j] == 1: A[i,j] = 1\n",
    "\n",
    "                else: A[i,j] = 0\n",
    "        \n",
    "        return A"
   ]
  },
  {
   "cell_type": "code",
   "execution_count": 6,
   "metadata": {},
   "outputs": [],
   "source": [
    "ura = URAMaskPattern(4)\n",
    "flag = False\n",
    "\n",
    "if flag:\n",
    "    print(ura.pattern_type, ura.prime_pair)\n",
    "    plot.image_plot([ura.basic_pattern], [\"URA Mask Basic Pattern\"],\n",
    "                    cbarvalues=[[0, 1]], cbarcmap=[lc([\"DodgerBlue\", \"DeepSkyBlue\"])])"
   ]
  },
  {
   "cell_type": "code",
   "execution_count": 10,
   "metadata": {},
   "outputs": [],
   "source": [
    "class MURAMaskPattern:\n",
    "    \"\"\"Generates a 2D MURA pattern for a coded mask camera.\"\"\"\n",
    "\n",
    "    def __init__(self, rank: int):\n",
    "        \n",
    "        self.pattern_type = 'MURA'\n",
    "        self.rank = rank\n",
    "\n",
    "        self.l = self._get_prime(rank)\n",
    "        C_r_i, C_s_j = self._get_pattern_root()\n",
    "\n",
    "        self.basic_pattern = self._get_basic_pattern(C_r_i, C_s_j)\n",
    "    \n",
    "\n",
    "    def _get_prime(self, rank):\n",
    "\n",
    "        assert rank >= 0, f\"rank must be >= 0, got rank {rank} instead.\"\n",
    "        \n",
    "        m, this_rank = 1, -1\n",
    "        flag = True\n",
    "\n",
    "        while flag:\n",
    "            l = 4*m + 1\n",
    "\n",
    "            if isprime(l):\n",
    "                this_rank += 1\n",
    "                if this_rank == rank:\n",
    "                    return l\n",
    "            \n",
    "            m += 1\n",
    "    \n",
    "    def _get_pattern_root(self):\n",
    "\n",
    "        C_r_i = np.zeros(self.l) - 1\n",
    "        C_s_j = np.zeros(self.l) - 1\n",
    "\n",
    "        for x in range(1, self.l):\n",
    "            C_r_i[x**2 % self.l] = 1\n",
    "        \n",
    "        for y in range(1, self.l):\n",
    "            C_s_j[y**2 % self.l] = 1\n",
    "        \n",
    "        return C_r_i, C_s_j\n",
    "    \n",
    "    def _get_basic_pattern(self, C_r_i, C_s_j):\n",
    "\n",
    "        A = np.zeros((self.l, self.l))\n",
    "\n",
    "        for i in range(self.l):\n",
    "            for j in range(self.l):\n",
    "\n",
    "                if i == 0: A[i,j] = 0\n",
    "\n",
    "                elif j == 0: A[i,j] = 1\n",
    "\n",
    "                elif C_r_i[i]*C_s_j[j] == 1: A[i,j] = 1\n",
    "        \n",
    "        return np.transpose(A)"
   ]
  },
  {
   "cell_type": "code",
   "execution_count": 12,
   "metadata": {},
   "outputs": [
    {
     "name": "stdout",
     "output_type": "stream",
     "text": [
      "5\n",
      "13\n",
      "17\n"
     ]
    }
   ],
   "source": [
    "mura = MURAMaskPattern(3)\n",
    "flag = False\n",
    "\n",
    "if flag:\n",
    "    print(mura.pattern_type, mura.l)\n",
    "    plot.image_plot([mura.basic_pattern], [\"MURA Mask Basic Pattern\"],\n",
    "                    cbarvalues=[[0, 1]], cbarcmap=[lc([\"DodgerBlue\", \"DeepSkyBlue\"])])"
   ]
  },
  {
   "cell_type": "markdown",
   "metadata": {},
   "source": [
    "**Mask Interface**"
   ]
  },
  {
   "cell_type": "code",
   "execution_count": null,
   "metadata": {},
   "outputs": [],
   "source": [
    "class CodedMaskInterface:\n",
    "    \"\"\"Interface for the URA/MURA coded mask camera analysis.\"\"\"\n",
    "\n",
    "    pass"
   ]
  },
  {
   "cell_type": "markdown",
   "metadata": {},
   "source": [
    "**Sky Simulation**"
   ]
  },
  {
   "cell_type": "markdown",
   "metadata": {},
   "source": [
    "**Sky Reconstruction Simulation**"
   ]
  },
  {
   "cell_type": "markdown",
   "metadata": {},
   "source": [
    "**Tests**"
   ]
  },
  {
   "cell_type": "markdown",
   "metadata": {},
   "source": [
    "### **URA Mask Pattern**"
   ]
  },
  {
   "cell_type": "markdown",
   "metadata": {},
   "source": [
    "### **MURA Mask Pattern**"
   ]
  }
 ],
 "metadata": {
  "kernelspec": {
   "display_name": "PhD_env__img_reconstruction_test",
   "language": "python",
   "name": "python3"
  },
  "language_info": {
   "codemirror_mode": {
    "name": "ipython",
    "version": 3
   },
   "file_extension": ".py",
   "mimetype": "text/x-python",
   "name": "python",
   "nbconvert_exporter": "python",
   "pygments_lexer": "ipython3",
   "version": "3.12.2"
  }
 },
 "nbformat": 4,
 "nbformat_minor": 2
}
