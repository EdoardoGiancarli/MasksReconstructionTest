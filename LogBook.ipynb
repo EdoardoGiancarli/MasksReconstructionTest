{
 "cells": [
  {
   "cell_type": "markdown",
   "metadata": {},
   "source": [
    "# <center>**Logbook**<center>"
   ]
  },
  {
   "cell_type": "markdown",
   "metadata": {},
   "source": [
    "## **General Notes**"
   ]
  },
  {
   "cell_type": "markdown",
   "metadata": {},
   "source": [
    "- **Note:** maybe plot functions in a single class (`Plot`), in a different `.py` file for general purpose"
   ]
  },
  {
   "cell_type": "code",
   "execution_count": 1,
   "metadata": {},
   "outputs": [],
   "source": [
    "def edit_logbook(logbook_name: str,\n",
    "                 comment: str,\n",
    "                 directory: str) -> None:\n",
    "    \"\"\"\n",
    "    Writes in a .txt file the edits on the notebook. If the file already\n",
    "    exists, it will be updated, else a new file will be created.\n",
    "    \"\"\"\n",
    "\n",
    "    pass"
   ]
  },
  {
   "cell_type": "markdown",
   "metadata": {},
   "source": [
    "## **Implementations**"
   ]
  },
  {
   "cell_type": "markdown",
   "metadata": {},
   "source": [
    "- **File:** `Img_Reconstruction3.ipynb`, **1st implementation:** 4/12\n",
    "\n",
    "\t1. Edit sources distribution:\n",
    "\t\t- ideal sources (discrete-like intensity distribution as point-like)\n",
    "\t\t- real sources (continuous-like intensity distribution as narrow Gaussians, nearly point-like)\n",
    "\t\t- sky background (broad Gaussian over the entire detector string)\n",
    "\t\t- `ideal2real_sources_distr()` and `simul_sky_background()` methods\n",
    "\t\t- **Note:** semi-ideal sources (point-like sources with sky background)\n",
    "\n",
    "\t2. Edit `sources_reconstruction_test()`:\n",
    "\t\t- ideal and real sources as params inputs\n",
    "\t\t- test on the reconstruction for ideal and real sources (due to sky background effect)\n",
    "\t\t- **Note:** if ideal and (semi-)real sources maybe two different reconstruction tests.\n",
    "\n",
    "<br>\n",
    "\n",
    "- **File:** `Img_Reconstruction3.ipynb`, **update:** 5/12\n",
    "\n",
    "\t1. Edit sources distribution:\n",
    "\t\t- sky background implemented (`add_sky_background()`)\n",
    "\t\t- better consider semi-real sources (point-like with sky background) for now\n",
    "\t\t- wrote function for real sources as seen by the detector (`detector_sources_distr()`)\n",
    "\n",
    "- **File:** `Img_Reconstruction3.ipynb`, **update:** 5/12\n",
    "\n",
    "\t1. Edit sources distribution:\n",
    "\t\t- `detector_sources_distr()` deleted as the source smearing is performed afterwords with a modified hyperbolic secant\n",
    "\t\t- **Note:** technically it should be the same for the sky background\n",
    "\t\t- edit sky background (Poisson distr over the entire detector string)\n",
    "\t\n",
    "\t2. Edit `sources_reconstruction_test()`:\n",
    "\t\t- edit `sources_reconstruction_test()`: source finder and threshold\n",
    "\n",
    "<br>\n",
    "\n",
    "- **File:** `Img2D_Reconstruction.ipynb`, **1st implementation:** 6/12\n",
    "\n",
    "\t1. plot functions moved to `plot.py`\n",
    "\t2. 2D masks Interface:\n",
    "\t\t- URA pattern simulation (from Yuri as folded sequence and then https://github.com/bpops/codedapertures for padding as in the 1D case (use `np.pad()`))\n",
    "\t\t- class `Coded_Mask_Interface`\n",
    "\t\t- `simulation_routine()` method"
   ]
  }
 ],
 "metadata": {
  "kernelspec": {
   "display_name": "PhD_env__img_reconstruction_test",
   "language": "python",
   "name": "python3"
  },
  "language_info": {
   "codemirror_mode": {
    "name": "ipython",
    "version": 3
   },
   "file_extension": ".py",
   "mimetype": "text/x-python",
   "name": "python",
   "nbconvert_exporter": "python",
   "pygments_lexer": "ipython3",
   "version": "3.12.7"
  }
 },
 "nbformat": 4,
 "nbformat_minor": 2
}
