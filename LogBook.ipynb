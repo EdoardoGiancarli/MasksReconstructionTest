{
 "cells": [
  {
   "cell_type": "markdown",
   "metadata": {},
   "source": [
    "# <center>**Logbook**<center>"
   ]
  },
  {
   "cell_type": "markdown",
   "metadata": {},
   "source": [
    "## **General Notes**"
   ]
  },
  {
   "cell_type": "markdown",
   "metadata": {},
   "source": [
    "- **Note:** maybe plot functions in a single class (`Plot`), in a different `.py` file for general purpose"
   ]
  },
  {
   "cell_type": "code",
   "execution_count": 1,
   "metadata": {},
   "outputs": [],
   "source": [
    "def edit_logbook(logbook_name: str,\n",
    "                 comment: str,\n",
    "                 directory: str) -> None:\n",
    "    \"\"\"\n",
    "    Writes in a .txt file the edits on the notebook. If the file already\n",
    "    exists, it will be updated, else a new file will be created.\n",
    "    \"\"\"\n",
    "\n",
    "    pass"
   ]
  },
  {
   "cell_type": "markdown",
   "metadata": {},
   "source": [
    "## **Implementations**"
   ]
  },
  {
   "cell_type": "markdown",
   "metadata": {},
   "source": [
    "- **File:** `Img_Reconstruction3.ipynb`, **1st implementation:** 4/12\n",
    "\n",
    "\t1. Edit sources distribution:\n",
    "\t\t- ideal sources (discrete-like intensity distribution as point-like)\n",
    "\t\t- real sources (continuous-like intensity distribution as narrow Gaussians, nearly point-like)\n",
    "\t\t- sky background (broad Gaussian over the entire detector string)\n",
    "\t\t- `ideal2real_sources_distr()` and `simul_sky_background()` methods\n",
    "\t\t- **Note:** semi-ideal sources (point-like sources with sky background)\n",
    "\n",
    "\t2. Edit `sources_reconstruction_test()`:\n",
    "\t\t- ideal and real sources as params inputs\n",
    "\t\t- test on the reconstruction for ideal and real sources (due to sky background effect)\n",
    "\t\t- **Note:** if ideal and (semi-)real sources maybe two different reconstruction tests.\n",
    "\n",
    "<br>\n",
    "\n",
    "- **File:** `Img_Reconstruction3.ipynb`, **update:** 5/12\n",
    "\n",
    "\t1. Edit sources distribution:\n",
    "\t\t- sky background implemented (`add_sky_background()`)\n",
    "\t\t- better consider semi-real sources (point-like with sky background) for now\n",
    "\t\t- wrote function for real sources as seen by the detector (`detector_sources_distr()`)\n",
    "\n",
    "<br>\n",
    "\n",
    "- **File:** `Img_Reconstruction3.ipynb`, **update:** 6/12\n",
    "\n",
    "\t1. Edit sources distribution:\n",
    "\t\t- `detector_sources_distr()` deleted as the source smearing is performed afterwords with a modified hyperbolic secant\n",
    "\t\t- **Note:** technically it should be the same for the sky background\n",
    "\t\t- edit sky background (Poisson distr over the entire detector string)\n",
    "\t\n",
    "\t2. Edit `sources_reconstruction_test()`:\n",
    "\t\t- edit `sources_reconstruction_test()`: source finder and threshold"
   ]
  },
  {
   "cell_type": "markdown",
   "metadata": {},
   "source": [
    "<br>"
   ]
  },
  {
   "cell_type": "markdown",
   "metadata": {},
   "source": [
    "- **File:** `Img2D_Reconstruction.ipynb`, **1st implementation:** 6/12\n",
    "\n",
    "\t1. plot functions moved to `plot.py`\n",
    "\t2. 2D masks Interface:\n",
    "\t\t- URA pattern simulation (from Yuri as folded sequence and then https://github.com/bpops/codedapertures for padding as in the 1D case (use `np.pad()`))\n",
    "\t\t- class `Coded_Mask_Interface`\n",
    "\t\t- `simulation_routine()` method\n",
    "\n",
    "<br>\n",
    "\n",
    "- **File:** `Img2D_Reconstruction.ipynb`, **update:** 9/12\n",
    "\n",
    "\t1. 2D masks Interface:\n",
    "\t\t- coding structure ultimated (`Mask_Pattern` class, `Coded_Mask_Interface` class, `simulate_sky_image()` method, `simulation_routine()` method)\n",
    "\t\t- **Note:** seems to work, but URA/MURA pattern generator is ill-posed and must be corrected\n",
    "\t\t- **Note:** reconstruction normalization performed directly on the reconstructed sky image (`Coded_Mask_Interface.decode()`)\n",
    "\t\t- **Note:** strange anticorrelation between mask and detector dimensions and reconstructed sky image values\n",
    "\n",
    "<br>\n",
    "\n",
    "- **File:** `Img2D_Reconstruction.ipynb`, **update:** 10/12\n",
    "\n",
    "\t1. Tests:\n",
    "\t\t- begin writing tests with the `unittest` library in `reconstruction_tests.py` script\n",
    "\t\t- **Test1**: test on the whole reconstructed sky image wrt the simulated sky image\n",
    "\t\t- **Test2**: test on the reconstructed sources wrt the simulated ones\n",
    "\n",
    "<br>\n",
    "\n",
    "- **File:** `Img2D_Reconstruction.ipynb`, **update:** 11/12\n",
    "\n",
    "\t1. Requirements:\n",
    "\t\t- `requirements.txt` updated with sympy, cupy and torch\n",
    "\n",
    "\t2. Tests:\n",
    "\t\t- tests with the `unittest` library will be used for padded masks\n",
    "\t\t- `TestReconstruction` class for recostruction tests\n",
    "\t\n",
    "\t3. Sky Simulation\n",
    "\t\t- fixed sources position (random or given) problem\n",
    "\t\n",
    "\t4. **Problems**\n",
    "\t\t- anti-correlation between sources peaks and mask shape\n",
    "\t\t- different shape for mask and detector and sky images (sources position is lost)\n",
    "\t\t- mask pattern generation"
   ]
  },
  {
   "cell_type": "markdown",
   "metadata": {},
   "source": [
    "<br>"
   ]
  },
  {
   "cell_type": "markdown",
   "metadata": {},
   "source": [
    "- **File:** `Img2D_Reconstruction2.ipynb`, **1st implementation:** 12/12\n",
    "\n",
    "    1. Mask Patterns\n",
    "        - mask structure from https://github.com/bpops/codedapertures\n",
    "        - `URAMaskPattern` and `MURAMaskPattern` classes\n",
    "        - **Note:** leave things in the notebook or write them in single modules (better for testing)?"
   ]
  },
  {
   "cell_type": "code",
   "execution_count": null,
   "metadata": {},
   "outputs": [],
   "source": [
    "def is_even(num):\n",
    "    return num % 2 == 0\n",
    "\n",
    "class TestMath(unittest.TestCase):\n",
    "    def test_is_even(self):\n",
    "        self.assertTrue(is_even(4))  # Passes if True\n",
    "        self.assertFalse(is_even(5))  # Passes if False\n",
    "        self.assertTrue(is_even(5))  # return: AssertionError: False is not true\n",
    "\n",
    "\n",
    "unittest.main(argv=[''], exit=False)"
   ]
  }
 ],
 "metadata": {
  "kernelspec": {
   "display_name": "PhD_env__img_reconstruction_test",
   "language": "python",
   "name": "python3"
  },
  "language_info": {
   "codemirror_mode": {
    "name": "ipython",
    "version": 3
   },
   "file_extension": ".py",
   "mimetype": "text/x-python",
   "name": "python",
   "nbconvert_exporter": "python",
   "pygments_lexer": "ipython3",
   "version": "3.12.7"
  }
 },
 "nbformat": 4,
 "nbformat_minor": 2
}
