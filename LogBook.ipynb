{
 "cells": [
  {
   "cell_type": "markdown",
   "metadata": {},
   "source": [
    "# <center>**Logbook**<center>"
   ]
  },
  {
   "cell_type": "markdown",
   "metadata": {},
   "source": [
    "## **General Notes**"
   ]
  },
  {
   "cell_type": "markdown",
   "metadata": {},
   "source": [
    "- **Note:** maybe plot functions in a single class (`Plot`), in a different `.py` file for general purpose"
   ]
  },
  {
   "cell_type": "code",
   "execution_count": 1,
   "metadata": {},
   "outputs": [],
   "source": [
    "def edit_logbook(logbook_name: str,\n",
    "                 comment: str,\n",
    "                 directory: str) -> None:\n",
    "    \"\"\"\n",
    "    Writes in a .txt file the edits on the notebook. If the file already\n",
    "    exists, it will be updated, else a new file will be created.\n",
    "    \"\"\"\n",
    "\n",
    "    pass"
   ]
  },
  {
   "cell_type": "markdown",
   "metadata": {},
   "source": [
    "## **Implementations**"
   ]
  },
  {
   "cell_type": "markdown",
   "metadata": {},
   "source": [
    "- **File:** `Img_Reconstruction3.ipynb`, **1st implementation:** 4/12\n",
    "\n",
    "\t1. Edit sources distribution:\n",
    "\t\t- ideal sources (discrete-like intensity distribution as point-like)\n",
    "\t\t- real sources (continuous-like intensity distribution as narrow Gaussians, nearly point-like)\n",
    "\t\t- sky background (broad Gaussian over the entire detector string)\n",
    "\t\t- `ideal2real_sources_distr()` and `simul_sky_background()` methods\n",
    "\t\t- **Note:** semi-ideal sources (point-like sources with sky background)\n",
    "\n",
    "\t2. Edit `sources_reconstruction_test()`:\n",
    "\t\t- ideal and real sources as params inputs\n",
    "\t\t- test on the reconstruction for ideal and real sources (due to sky background effect)\n",
    "\t\t- **Note:** if ideal and (semi-)real sources maybe two different reconstruction tests.\n",
    "\n",
    "<br>\n",
    "\n",
    "- **File:** `Img_Reconstruction3.ipynb`, **update:** 5/12\n",
    "\n",
    "\t1. Edit sources distribution:\n",
    "\t\t- sky background implemented (`add_sky_background()`)\n",
    "\t\t- better consider semi-real sources (point-like with sky background) for now\n",
    "\t\t- wrote function for real sources as seen by the detector (`detector_sources_distr()`)\n",
    "\n",
    "<br>\n",
    "\n",
    "- **File:** `Img_Reconstruction3.ipynb`, **update:** 6/12\n",
    "\n",
    "\t1. Edit sources distribution:\n",
    "\t\t- `detector_sources_distr()` deleted as the source smearing is performed afterwords with a modified hyperbolic secant\n",
    "\t\t- **Note:** technically it should be the same for the sky background\n",
    "\t\t- edit sky background (Poisson distr over the entire detector string)\n",
    "\t\n",
    "\t2. Edit `sources_reconstruction_test()`:\n",
    "\t\t- edit `sources_reconstruction_test()`: source finder and threshold"
   ]
  },
  {
   "cell_type": "markdown",
   "metadata": {},
   "source": [
    "<br>"
   ]
  },
  {
   "cell_type": "markdown",
   "metadata": {},
   "source": [
    "- **File:** `Img2D_Reconstruction.ipynb`, **1st implementation:** 6/12\n",
    "\n",
    "\t1. plot functions moved to `plot.py`\n",
    "\t2. 2D masks Interface:\n",
    "\t\t- URA pattern simulation (from Yuri as folded sequence and then https://github.com/bpops/codedapertures for padding as in the 1D case (use `np.pad()`))\n",
    "\t\t- class `Coded_Mask_Interface`\n",
    "\t\t- `simulation_routine()` method\n",
    "\n",
    "<br>\n",
    "\n",
    "- **File:** `Img2D_Reconstruction.ipynb`, **update:** 9/12\n",
    "\n",
    "\t1. 2D masks Interface:\n",
    "\t\t- coding structure ultimated (`Mask_Pattern` class, `Coded_Mask_Interface` class, `simulate_sky_image()` method, `simulation_routine()` method)\n",
    "\t\t- **Note:** seems to work, but URA/MURA pattern generator is ill-posed and must be corrected\n",
    "\t\t- **Note:** reconstruction normalization performed directly on the reconstructed sky image (`Coded_Mask_Interface.decode()`)\n",
    "\t\t- **Note:** strange anticorrelation between mask and detector dimensions and reconstructed sky image values\n",
    "\n",
    "<br>\n",
    "\n",
    "- **File:** `Img2D_Reconstruction.ipynb`, **update:** 10/12\n",
    "\n",
    "\t1. Tests:\n",
    "\t\t- begin writing tests with the `unittest` library in `reconstruction_tests.py` script\n",
    "\t\t- **Test1**: test on the whole reconstructed sky image wrt the simulated sky image\n",
    "\t\t- **Test2**: test on the reconstructed sources wrt the simulated ones\n",
    "\n",
    "<br>\n",
    "\n",
    "- **File:** `Img2D_Reconstruction.ipynb`, **update:** 11/12\n",
    "\n",
    "\t1. Requirements:\n",
    "\t\t- `requirements.txt` updated with sympy, cupy and torch\n",
    "\n",
    "\t2. Tests:\n",
    "\t\t- tests with the `unittest` library will be used for padded masks\n",
    "\t\t- `TestReconstruction` class for recostruction tests\n",
    "\t\n",
    "\t3. Sky Simulation\n",
    "\t\t- fixed sources position (random or given) problem\n",
    "\t\n",
    "\t4. **Problems**\n",
    "\t\t- anti-correlation between sources peaks and mask shape\n",
    "\t\t- different shape for mask and detector and sky images (sources position is lost)\n",
    "\t\t- mask pattern generation"
   ]
  },
  {
   "cell_type": "markdown",
   "metadata": {},
   "source": [
    "<br>"
   ]
  },
  {
   "cell_type": "markdown",
   "metadata": {},
   "source": [
    "- **File:** `Img2D_Reconstruction2.ipynb`, **1st implementation:** 12/12\n",
    "\n",
    "    1. Mask Patterns\n",
    "        - mask structure from https://github.com/bpops/codedapertures\n",
    "        - `URAMaskPattern` and `MURAMaskPattern` classes\n",
    "        - **Note:** leave things in the notebook or write them in single modules (better for testing)?\n",
    "\n",
    "<br>\n",
    "\n",
    "- **File:** mask pattern, interface and tests, **1st implementation:** 13/12\n",
    "\n",
    "    1. Mask Patterns\n",
    "        - file: `maskpattern.py` - done\n",
    "    \n",
    "    2. Coded Mask Interface\n",
    "        - file: `codedmaskinterface.py` - done\n",
    "    \n",
    "    3. Sky Image Simulation and Reconstruction Pipeline\n",
    "        - file: `---.py` - to do (maybe a single class with `simulate_sky_image()`, `simulation_routine()` and `wrap_sources()`)\n",
    "    \n",
    "    4. Tests\n",
    "        - file: `test_maskpattern.py` for tests on the URA/MURA pattern initilization - done\n",
    "        - file: `test_codedmaskinterface.py` for tests on the CAI procedure - done\n",
    "        - file: `test_---.py` - to do\n",
    "    \n",
    "    - **Note:** mask padding has to be implemented\n",
    "\n",
    "<br>\n",
    "\n",
    "- **File:** mask pattern, interface and tests, **update:** 14/12\n",
    "\n",
    "    1. Mask padding to be implemented in `codedmaskinterface.py` and tested\n",
    "\n",
    "    2. Sky Image Simulation and Reconstruction Pipeline\n",
    "        - begin work on the `CAI_pipeline` class\n",
    "\n",
    "<br>\n",
    "\n",
    "- **File:** mask pattern, interface and tests, **update:** 16/12\n",
    "\n",
    "    1. Padding in `codedmaskinterface.py`\n",
    "        - mask padding implemented (both for proper mask padding and for correlations in `mode='valid'`)\n",
    "        - tests updated\n",
    "    \n",
    "    2. Sky Image Simulation and Reconstruction Pipeline\n",
    "        - deleted `CAI_pipeline` class, implemented `sky_image_simulation()` and `cai_simulation()` methods\n",
    "        - reconstruction test updated (not with `unittest`)\n",
    "    \n",
    "    3. Updated notebook `Img2D_Reconstruction2.ipynb`\n",
    "\n",
    "    - **TO DO:** GPU acceleration with cupy or torch\n",
    "\n",
    "<br>\n",
    "\n",
    "- **File:** mask pattern, interface and tests, **update:** 17/12\n",
    "\n",
    "    1. Script ultimated\n",
    "        - source normalization in the decoder (`decoder/basic_pattern.sum()`)\n",
    "    \n",
    "    2. Reconstruction in the notebook `Img2D_Reconstruction2.ipynb`\n",
    "        - URA mask without padding\n",
    "        - URA mask with padding (always `(m - 1)/2`)\n",
    "        - MURA mask with padding\n",
    "\n",
    "<br>\n",
    "\n",
    "- **File:** mask pattern, interface and tests, **update:** 18/12\n",
    "\n",
    "    1. decoder in `maskpattern.py` (`self.basic_decoder`)\n",
    "    2. decoder padding together with the mask (if required)\n",
    "    3. test modified and OK"
   ]
  },
  {
   "cell_type": "markdown",
   "metadata": {},
   "source": [
    "<br>"
   ]
  },
  {
   "cell_type": "markdown",
   "metadata": {},
   "source": [
    "- **Folder:** Img2D_GPU_Reconstruction, **1st implementation:** 17/12\n",
    "\n",
    "    1. apply `cupy` and/or `torch` for GPU acceleration (main: `torch`)\n",
    "\n",
    "<br>\n",
    "\n",
    "- **Folder:** Img_GPUReconstruction_2D, **update:** 24/12\n",
    "\n",
    "    1. PyTorch framework\n",
    "        - whole conversion to pytorch\n",
    "        - GPU acceleration implemented (choice between CPU and GPU for correlations)\n"
   ]
  },
  {
   "cell_type": "markdown",
   "metadata": {},
   "source": [
    "<br>"
   ]
  },
  {
   "cell_type": "markdown",
   "metadata": {},
   "source": [
    "- **Folder:** Img_ReconstructionMethods_2D, **1st implementation:** 27/12\n",
    "\n",
    "    1. PCfov implementation\n",
    "\n",
    "    2. Reconstruction methods investigation\n",
    "        - Cross-correlation\n",
    "        - Maximum-Likelihood reconstruction\n",
    "        - Maximum-Entropy reconstruction\n",
    "    \n",
    "    3. IROS"
   ]
  }
 ],
 "metadata": {
  "kernelspec": {
   "display_name": "PhD_env__img_reconstruction_test",
   "language": "python",
   "name": "python3"
  },
  "language_info": {
   "codemirror_mode": {
    "name": "ipython",
    "version": 3
   },
   "file_extension": ".py",
   "mimetype": "text/x-python",
   "name": "python",
   "nbconvert_exporter": "python",
   "pygments_lexer": "ipython3",
   "version": "3.12.2"
  }
 },
 "nbformat": 4,
 "nbformat_minor": 2
}
